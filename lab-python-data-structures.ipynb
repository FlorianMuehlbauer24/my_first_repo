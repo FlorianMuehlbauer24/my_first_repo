{
 "cells": [
  {
   "cell_type": "markdown",
   "metadata": {
    "tags": []
   },
   "source": [
    "# Lab | Data Structures "
   ]
  },
  {
   "cell_type": "markdown",
   "metadata": {},
   "source": [
    "## Exercise: Managing Customer Orders\n",
    "\n",
    "As part of a business venture, you are starting an online store that sells various products. To ensure smooth operations, you need to develop a program that manages customer orders and inventory.\n",
    "\n",
    "Follow the steps below to complete the exercise:\n",
    "\n",
    "1. Define a list called `products` that contains the following items: \"t-shirt\", \"mug\", \"hat\", \"book\", \"keychain\".\n",
    "\n",
    "2. Create an empty dictionary called `inventory`.\n",
    "\n",
    "3. Ask the user to input the quantity of each product available in the inventory. Use the product names from the `products` list as keys in the `inventory` dictionary and assign the respective quantities as values.\n",
    "\n",
    "4. Create an empty set called `customer_orders`.\n",
    "\n",
    "5. Ask the user to input the name of three products that a customer wants to order (from those in the products list, meaning three products out of \"t-shirt\", \"mug\", \"hat\", \"book\" or \"keychain\". Add each product name to the `customer_orders` set.\n",
    "\n",
    "6. Print the products in the `customer_orders` set.\n",
    "\n",
    "7. Calculate the following order statistics:\n",
    "   - Total Products Ordered: The total number of products in the `customer_orders` set.\n",
    "   - Percentage of Products Ordered: The percentage of products ordered compared to the total available products.\n",
    "   \n",
    "   Store these statistics in a tuple called `order_status`.\n",
    "\n",
    "8. Print the order statistics using the following format:\n",
    "   ```\n",
    "   Order Statistics:\n",
    "   Total Products Ordered: <total_products_ordered>\n",
    "   Percentage of Products Ordered: <percentage_ordered>% \n",
    "   ```\n",
    "\n",
    "9. Update the inventory by subtracting 1 from the quantity of each product. Modify the `inventory` dictionary accordingly.\n",
    "\n",
    "10. Print the updated inventory, displaying the quantity of each product on separate lines.\n",
    "\n",
    "Solve the exercise by implementing the steps using the Python concepts of lists, dictionaries, sets, and basic input/output operations. "
   ]
  },
  {
   "cell_type": "code",
   "execution_count": null,
   "metadata": {},
   "outputs": [],
   "source": [
    "# 1 Create product list\n",
    "products = [\"t-shirt\", \"mug\", \"hat\", \"book\", \"keychain\"]"
   ]
  },
  {
   "cell_type": "code",
   "execution_count": null,
   "metadata": {},
   "outputs": [],
   "source": [
    "# 2 create emtpy inventory dictionary\n",
    "inventory = {}"
   ]
  },
  {
   "cell_type": "code",
   "execution_count": 4,
   "metadata": {},
   "outputs": [
    {
     "name": "stdout",
     "output_type": "stream",
     "text": [
      "Input Quantity of T-Shirts:6\n",
      "Input Quantity of mug:7\n",
      "Input Quantity of hat:8\n",
      "Input Quantity of book:56\n",
      "Input Quantity of keychain:7\n"
     ]
    }
   ],
   "source": [
    "# 3 Ask user to input quantity of t-shirt\", \"mug\", \"hat\", \"book\", \"keychain\" + story values\n",
    "Quantity_TShirts = input(\"Input Quantity of T-Shirts:\")\n",
    "Quantity_mug = input(\"Input Quantity of mug:\")\n",
    "Quantity_hat = input(\"Input Quantity of hat:\")\n",
    "Quantity_book = input(\"Input Quantity of book:\")\n",
    "Quantity_keychain = input(\"Input Quantity of keychain:\")"
   ]
  },
  {
   "cell_type": "code",
   "execution_count": null,
   "metadata": {},
   "outputs": [],
   "source": [
    "# 4 create empty \n",
    "customer_orders = {}"
   ]
  },
  {
   "cell_type": "code",
   "execution_count": 7,
   "metadata": {},
   "outputs": [
    {
     "name": "stdout",
     "output_type": "stream",
     "text": [
      "Name one of the following products: T-shirt, Mug, Hat, Book, KeychainMug\n",
      "Name one of the following products: T-shirt, Mug, Hat, Book, KeychainHat\n",
      "Name one of the following products: T-shirt, Mug, Hat, Book, KeychainBook\n",
      "{'Hat', 'Book', 'Mug'}\n"
     ]
    }
   ],
   "source": [
    "# 5\n",
    "User_input1 = input(\"Name one of the following products: T-shirt, Mug, Hat, Book, Keychain\")\n",
    "User_input2 = input(\"Name one of the following products: T-shirt, Mug, Hat, Book, Keychain\")\n",
    "User_input3 = input(\"Name one of the following products: T-shirt, Mug, Hat, Book, Keychain\")\n",
    "customer_orders = {User_input1, User_input2, User_input3}\n",
    "print(customer_orders)"
   ]
  },
  {
   "cell_type": "code",
   "execution_count": 8,
   "metadata": {},
   "outputs": [
    {
     "name": "stdout",
     "output_type": "stream",
     "text": [
      "{'Hat', 'Book', 'Mug'}\n"
     ]
    }
   ],
   "source": [
    "#6 \n",
    "print(customer_orders)"
   ]
  },
  {
   "cell_type": "code",
   "execution_count": 22,
   "metadata": {},
   "outputs": [
    {
     "name": "stdout",
     "output_type": "stream",
     "text": [
      "3\n",
      "74\n",
      "0.04054054054054054\n"
     ]
    }
   ],
   "source": [
    "#7\n",
    "Total_Products_Ordered = len(customer_orders)\n",
    "Total_Stock = int(Quantity_TShirts) + int(Quantity_mug) + int(Quantity_hat) + int(Quantity_book) + int(Quantity_keychain)\n",
    "print(Total_Products_Ordered)\n",
    "print(Total_Stock)\n",
    "PercentageOrdersvsStock = Total_Products_Ordered / Total_Stock\n",
    "print(PercentageOrdersvsStock)\n",
    "\n",
    "OrderStatus = (3, 0.35)"
   ]
  },
  {
   "cell_type": "code",
   "execution_count": 17,
   "metadata": {},
   "outputs": [
    {
     "name": "stdout",
     "output_type": "stream",
     "text": [
      "3\n",
      "0.03571428571428571\n"
     ]
    }
   ],
   "source": [
    "#8 \n",
    "print(Total_Products_Ordered)\n",
    "print(PercentageOrdersvsStock)"
   ]
  },
  {
   "cell_type": "code",
   "execution_count": 21,
   "metadata": {},
   "outputs": [
    {
     "name": "stdout",
     "output_type": "stream",
     "text": [
      "74\n"
     ]
    }
   ],
   "source": [
    "#9 \n",
    "Quantity_TShirts = int(Quantity_TShirts) - 1\n",
    "Quantity_mug = int(Quantity_mug) - 1 \n",
    "Quantity_hat = int(Quantity_hat) - 1\n",
    "Quantity_book = int(Quantity_book) - 1 \n",
    "Quantity_keychain = int(Quantity_keychain) - 1\n",
    "\n",
    "Total_Stock = int(Quantity_TShirts) + int(Quantity_mug) + int(Quantity_hat) + int(Quantity_book) + int(Quantity_keychain)\n",
    "print(Total_Stock)"
   ]
  },
  {
   "cell_type": "code",
   "execution_count": 23,
   "metadata": {},
   "outputs": [
    {
     "name": "stdout",
     "output_type": "stream",
     "text": [
      "4\n",
      "5\n",
      "6\n",
      "54\n",
      "5\n"
     ]
    }
   ],
   "source": [
    "print(Quantity_TShirts)\n",
    "print(Quantity_mug)\n",
    "print(Quantity_hat)\n",
    "print(Quantity_book)\n",
    "print(Quantity_keychain)"
   ]
  },
  {
   "cell_type": "code",
   "execution_count": null,
   "metadata": {},
   "outputs": [],
   "source": []
  }
 ],
 "metadata": {
  "kernelspec": {
   "display_name": "Python 3 (ipykernel)",
   "language": "python",
   "name": "python3"
  },
  "language_info": {
   "codemirror_mode": {
    "name": "ipython",
    "version": 3
   },
   "file_extension": ".py",
   "mimetype": "text/x-python",
   "name": "python",
   "nbconvert_exporter": "python",
   "pygments_lexer": "ipython3",
   "version": "3.11.5"
  }
 },
 "nbformat": 4,
 "nbformat_minor": 4
}
